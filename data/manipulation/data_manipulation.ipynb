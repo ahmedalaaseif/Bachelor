{
  "nbformat": 4,
  "nbformat_minor": 0,
  "metadata": {
    "colab": {
      "name": "data manipulation.ipynb",
      "provenance": [],
      "collapsed_sections": [],
      "toc_visible": true,
      "mount_file_id": "1Y0qjKYXoZG3Q5dptgUVVAywi2n7HMlQ7",
      "authorship_tag": "ABX9TyOOcYdD9cDQVi4tFhYeNmtP",
      "include_colab_link": true
    },
    "kernelspec": {
      "name": "python3",
      "display_name": "Python 3"
    }
  },
  "cells": [
    {
      "cell_type": "markdown",
      "metadata": {
        "id": "view-in-github",
        "colab_type": "text"
      },
      "source": [
        "<a href=\"https://colab.research.google.com/github/ahmedalaaseif/Bachelor/blob/master/data/manipulation/data_manipulation.ipynb\" target=\"_parent\"><img src=\"https://colab.research.google.com/assets/colab-badge.svg\" alt=\"Open In Colab\"/></a>"
      ]
    },
    {
      "cell_type": "code",
      "metadata": {
        "id": "EpcBNPdjCeNI",
        "colab_type": "code",
        "colab": {}
      },
      "source": [
        "pip install wget"
      ],
      "execution_count": null,
      "outputs": []
    },
    {
      "cell_type": "code",
      "metadata": {
        "id": "uJX9BVakGPRC",
        "colab_type": "code",
        "colab": {}
      },
      "source": [
        "%cd \"..\""
      ],
      "execution_count": null,
      "outputs": []
    },
    {
      "cell_type": "code",
      "metadata": {
        "id": "_rDmhHystl8m",
        "colab_type": "code",
        "colab": {}
      },
      "source": [
        "%cd \"content\""
      ],
      "execution_count": null,
      "outputs": []
    },
    {
      "cell_type": "code",
      "metadata": {
        "id": "suJTDyPeDLbX",
        "colab_type": "code",
        "colab": {}
      },
      "source": [
        "%cd \"drive\""
      ],
      "execution_count": null,
      "outputs": []
    },
    {
      "cell_type": "code",
      "metadata": {
        "id": "SS5h4TzbDyA1",
        "colab_type": "code",
        "colab": {}
      },
      "source": [
        "%cd \"My Drive\""
      ],
      "execution_count": null,
      "outputs": []
    },
    {
      "cell_type": "code",
      "metadata": {
        "id": "ZAt_7pxMD69t",
        "colab_type": "code",
        "colab": {}
      },
      "source": [
        "%cd \"Bachelor\""
      ],
      "execution_count": null,
      "outputs": []
    },
    {
      "cell_type": "code",
      "metadata": {
        "id": "ytlXurv_D94z",
        "colab_type": "code",
        "colab": {}
      },
      "source": [
        "%cd \"labels\""
      ],
      "execution_count": null,
      "outputs": []
    },
    {
      "cell_type": "code",
      "metadata": {
        "id": "Bz9Q_TKkECKg",
        "colab_type": "code",
        "colab": {}
      },
      "source": [
        "% ls"
      ],
      "execution_count": null,
      "outputs": []
    },
    {
      "cell_type": "code",
      "metadata": {
        "id": "qSDtxG7cC2GL",
        "colab_type": "code",
        "colab": {}
      },
      "source": [
        "import wget\n",
        "import cv2\n",
        "import requests\n",
        "\n",
        "with open('/content/drive/My Drive/Bachelor/NSFW data/urls_sexy.txt', 'r') as myfile:\n",
        "\n",
        "    lines = myfile.readlines()\n",
        "\n",
        "\n",
        "print(lines[59].rstrip(\"\\n\"))\n",
        "i=0\n",
        "for line in lines:\n",
        "    req = line.rstrip(\"\\n\")\n",
        "    try:\n",
        "        if(i>=0):\n",
        "            print(req)\n",
        "            wget.download(req)\n",
        "            print(\"\\n ---->\"+ str((i/len(lines))*100)+\" % \\n\")\n",
        "    except:\n",
        "        print(\"got it!!!\")\n",
        "    i+=1"
      ],
      "execution_count": null,
      "outputs": []
    },
    {
      "cell_type": "code",
      "metadata": {
        "id": "f2-jDzAk4ID8",
        "colab_type": "code",
        "colab": {}
      },
      "source": [
        "#### Testing if the written boudning box is working with \n",
        "%matplotlib inline\n",
        "from matplotlib import pyplot as plt\n",
        "import cv2\n",
        "\n",
        "# Load in Grayscale\n",
        "img = cv2.imread('/content/1 (1).jpeg', 0)\n",
        "\n",
        "\n",
        "start_point = (273, 410)  \n",
        "end_point = ( 273+126, 410+142) \n",
        " \n",
        "# Blue color in BGR \n",
        "color = (255, 0, 0) \n",
        "# Line thickness of 2 px \n",
        "thickness = 5\n",
        "img = cv2.rectangle(img, start_point, end_point, color, thickness) \n",
        "plt.imshow(img)\n",
        "plt.show()\n"
      ],
      "execution_count": null,
      "outputs": []
    },
    {
      "cell_type": "code",
      "metadata": {
        "id": "FbAbXKdh_4UW",
        "colab_type": "code",
        "colab": {}
      },
      "source": [
        "## Labeling Data\n",
        "import requests\n",
        "import json\n",
        "import cv2\n",
        "import os\n",
        "\n",
        "## Path to your set of images you want to label\n",
        "path = '/content/drive/My Drive/Bachelor/NSFW data'\n",
        "\n",
        "files = []\n",
        "# r=root, d=directories, f = files\n",
        "for r, d, f in os.walk(path):\n",
        "    for file in f:\n",
        "      if(file.endswith(\".jpg\") or file.endswith(\".jpeg\")):\n",
        "        files.append(os.path.join(r, file))\n",
        "i = 0\n",
        "for file in files:\n",
        "    if(i>=11322):\n",
        "        r = requests.post(\n",
        "\"https://api.deepai.org/api/nsfw-detector\",\n",
        "    files={\n",
        "        'image': open(str(file), 'rb'),\n",
        "    },\n",
        "    headers={'api-key': '147de7e2-0318-4be2-bca8-6791f9b3c206'}\n",
        ")\n",
        "        print(file)\n",
        "        print(\"-------------> \"+ str((i/len(files))*100)+\" %\")\n",
        "        print(\"we finished \" + str(i)+ \"  images \")\n",
        "        wjdata = r.json()\n",
        "        im = cv2.imread(str(file))\n",
        "        if(len(wjdata['output'][\"detections\"])>0):\n",
        "            toWrite = \"\"\n",
        "            \n",
        "            for c in wjdata['output'][\"detections\"]:\n",
        "                print(\"bounding box---> \"+ str(c[\"bounding_box\"]))\n",
        "                boxWidth = c[\"bounding_box\"][2]\n",
        "                boxHeight = c[\"bounding_box\"][3]\n",
        "                centerX = (boxWidth/2) + c[\"bounding_box\"][0]\n",
        "                centerY = (boxHeight/2) + c[\"bounding_box\"][1]\n",
        "                toWrite+= \"0 \" + str(centerX/im.shape[1]) + \" \"+ str(centerY/im.shape[0])+ \" \"+ str(c[\"bounding_box\"][2]/im.shape[1]) + \" \"+ str(c[\"bounding_box\"][3]/im.shape[0]) +\" \\n\"\n",
        "            name = file\n",
        "\n",
        "\n",
        "            \n",
        "            if(name.endswith(\"jpg\")):\n",
        "              name = name[:-4]\n",
        "            if(name.endswith(\"jpeg\")):\n",
        "              name = name[:-5]\n",
        "            name += \".txt\"\n",
        "            file1 = open(name,\"w\" ) \n",
        "            file1.write(toWrite) \n",
        "            file1.close()\n",
        "            print(\"NSFW\")\n",
        "        else:\n",
        "\n",
        "            name = file\n",
        "            if(name.endswith(\"jpg\")):\n",
        "              name = name[:-4]\n",
        "            if(name.endswith(\"jpeg\")):\n",
        "              name = name[:-5]\n",
        "            name += \".txt\"\n",
        "            file1 = open(name,\"w\") \n",
        "            file1.close()\n",
        "            print(\"NOT NSFW\")\n",
        "    i+=1\n",
        "\n",
        "    \n",
        "\n",
        "\n",
        "\n",
        "\n"
      ],
      "execution_count": null,
      "outputs": []
    },
    {
      "cell_type": "code",
      "metadata": {
        "id": "TLZl4zhOBwVb",
        "colab_type": "code",
        "colab": {}
      },
      "source": [
        "## Looking for duplicate names but different extensions\n",
        "import os\n",
        "\n",
        "## Path to your set of images you want to label\n",
        "path = '/content/drive/My Drive/Bachelor/NSFW data'\n",
        "\n",
        "files = []\n",
        "# r=root, d=directories, f = files\n",
        "for r, d, f in os.walk(path):\n",
        "    for file in f:\n",
        "      if(file.endswith(\".jpg\") or file.endswith(\".jpeg\")):\n",
        "        files.append(os.path.join(r, file))\n",
        "filesTXT = []\n",
        "# r=root, d=directories, f = files\n",
        "for r, d, f in os.walk(path):\n",
        "    for file in f:\n",
        "      if(file.endswith(\".txt\")):\n",
        "        filesTXT.append(os.path.join(r, file))\n",
        "## The number of images is equal to the number of generated label files\n",
        "print(len(files))\n",
        "print(len(filesTXT))"
      ],
      "execution_count": null,
      "outputs": []
    },
    {
      "cell_type": "code",
      "metadata": {
        "id": "7iW4LWYftL3f",
        "colab_type": "code",
        "colab": {}
      },
      "source": [
        "## Generating the needed train.txt file for YOLO\n",
        "toWrite=\"\"\n",
        "for line in files:\n",
        "  toWrite += line + \"\\n\"\n",
        "\n",
        "file1 = open(\"train.txt\",\"w\" ) \n",
        "file1.write(toWrite) \n",
        "file1.close()"
      ],
      "execution_count": null,
      "outputs": []
    },
    {
      "cell_type": "code",
      "metadata": {
        "id": "6Kn0ykx4u8QR",
        "colab_type": "code",
        "colab": {}
      },
      "source": [
        "## Generating the needed obj.names file for YOLO\n",
        "file1 = open(\"obj.names\",\"w\" ) \n",
        "file1.write(\"NSFW\") \n",
        "file1.close()"
      ],
      "execution_count": null,
      "outputs": []
    },
    {
      "cell_type": "code",
      "metadata": {
        "id": "7lvoka1KvhA9",
        "colab_type": "code",
        "colab": {}
      },
      "source": [
        "## Generating the needed obj.data file for YOLO\n",
        "file1 = open(\"obj.data\",\"w\" ) \n",
        "file1.write(\"classes = 1 \\ntrain = /content/darknet/train.txt \\nvalid = /content/darknet/test.txt \\nnames = /content/darknet/obj.names \\nbackup= /content/drive/My\\ drive/Bachelor/backup/ \\nbackup = backup \\nnot backup = backup/\") \n",
        "\n",
        "\n",
        "file1.close()"
      ],
      "execution_count": null,
      "outputs": []
    },
    {
      "cell_type": "code",
      "metadata": {
        "id": "uuwHgBexrELG",
        "colab_type": "code",
        "colab": {}
      },
      "source": [
        "## Making sure that all the extensions are .jpg\n",
        "for k in files:\n",
        "  c= k\n",
        "  if(k.endswith(\".jpeg\")):\n",
        "    c = c[:-5] + \".jpg\"\n",
        "    if(c in files):\n",
        "      print(c)\n",
        "  "
      ],
      "execution_count": null,
      "outputs": []
    },
    {
      "cell_type": "code",
      "metadata": {
        "id": "a0qc0YcWC8xR",
        "colab_type": "code",
        "colab": {}
      },
      "source": [
        "## checking for missed images(not labeled)\n",
        "notLabeled= []\n",
        "\n",
        "for n in files:\n",
        "  c = n\n",
        "  if(c.endswith(\"jpg\")):\n",
        "    c = c[:-4]\n",
        "  if(c.endswith(\"jpeg\")):\n",
        "    c = c[:-5]\n",
        "  c = c + \".txt\"\n",
        "  if(c not in filesTXT):\n",
        "    notLabeled.append(n)\n",
        "print(notLabeled)\n",
        "print(len(notLabeled))"
      ],
      "execution_count": null,
      "outputs": []
    },
    {
      "cell_type": "code",
      "metadata": {
        "id": "jvOk69FIERla",
        "colab_type": "code",
        "colab": {}
      },
      "source": [
        "## Labeling the images with no label, not necessary if previous cell variable (notLabeled) is empty\n",
        "import requests\n",
        "import cv2\n",
        "i = 0\n",
        "for file in notLabeled:\n",
        "    if(i>=0):\n",
        "        r = requests.post(\n",
        "\"https://api.deepai.org/api/nsfw-detector\",\n",
        "    files={\n",
        "        'image': open(str(file), 'rb'),\n",
        "    },\n",
        "    headers={'api-key': 'f01a1743-f34f-4ae8-93b3-a6086b4f125d'}\n",
        ")\n",
        "        print(file)\n",
        "        print(\"-------------> \"+ str((i/len(notLabeled))*100)+\" %\")\n",
        "        print(\"we finished \" + str(i)+ \"  images \")\n",
        "        wjdata = r.json()\n",
        "        im = cv2.imread(str(file))\n",
        "        if(len(wjdata['output'][\"detections\"])>0):\n",
        "            toWrite = \"\"\n",
        "            \n",
        "            for c in wjdata['output'][\"detections\"]:\n",
        "                print(\"bounding box---> \"+ str(c[\"bounding_box\"]))\n",
        "                boxWidth = c[\"bounding_box\"][2]\n",
        "                boxHeight = c[\"bounding_box\"][3]\n",
        "                centerX = (boxWidth/2) + c[\"bounding_box\"][0]\n",
        "                centerY = (boxHeight/2) + c[\"bounding_box\"][1]\n",
        "                toWrite+= \"0 \" + str(centerX/im.shape[1]) + \" \"+ str(centerY/im.shape[0])+ \" \"+ str(c[\"bounding_box\"][2]/im.shape[1]) + \" \"+ str(c[\"bounding_box\"][3]/im.shape[0]) +\" \\n\"\n",
        "            name = file\n",
        "\n",
        "\n",
        "            \n",
        "            if(name.endswith(\"jpg\")):\n",
        "              name = name[:-4]\n",
        "            if(name.endswith(\"jpeg\")):\n",
        "              name = name[:-5]\n",
        "            name += \".txt\"\n",
        "            file1 = open(name,\"w\" ) \n",
        "            file1.write(toWrite) \n",
        "            file1.close()\n",
        "            print(\"NSFW\")\n",
        "        else:\n",
        "            name = file\n",
        "            if(name.endswith(\"jpg\")):\n",
        "              name = name[:-4]\n",
        "            if(name.endswith(\"jpeg\")):\n",
        "              name = name[:-5]\n",
        "            name += \".txt\"\n",
        "            file1 = open(name,\"w\") \n",
        "            file1.close()\n",
        "            print(\"NOT NSFW\")\n",
        "  \n",
        "    i += 1"
      ],
      "execution_count": null,
      "outputs": []
    }
  ]
}